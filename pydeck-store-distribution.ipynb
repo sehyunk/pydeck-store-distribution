{
 "cells": [
  {
   "cell_type": "markdown",
   "id": "7ffaa665",
   "metadata": {},
   "source": [
    "# Pydeck으로 전국 편의점 분포 시각화\n",
    "\n",
    "Pydeck을 이용해 전국 편의점 분포를 시각화 해봤습니다.\n",
    "Pydeck 세팅은 변성윤님의 블로그 글을 참고했습니다.\n",
    "\n",
    "### Reference\n",
    "https://zzsza.github.io/data/2019/11/24/pydeck/\n",
    "\n",
    "### Pydeck 도큐먼트\n",
    "\n",
    "https://pydeck.gl/gallery/hexagon_layer.html"
   ]
  },
  {
   "cell_type": "markdown",
   "id": "4b3ccdb6",
   "metadata": {},
   "source": [
    "## 데이터 불러오기 & 전처리\n",
    "공공데이터 포털에서 전국 상가(상권)정보 데이터를 다운받아줍니다.\n",
    "\n",
    "https://www.data.go.kr/data/15061057/fileData.do"
   ]
  },
  {
   "cell_type": "code",
   "execution_count": 360,
   "id": "ba0835cd",
   "metadata": {},
   "outputs": [],
   "source": [
    "# 사용할 칼럼 리스트(전체로 불러와 전처리하려고 했는데, 너무 무거워서 미리 사용할 칼럼 서칭 후 작성)\n",
    "columns = ['시도명', '상권업종소분류명', '경도', '위도']\n",
    "# 시도명 리스트\n",
    "citys = ['강원', '경기', '경남','경북', '광주','대구', '대전', '부산','서울','세종', '울산','인천','전남','전북','제주','충남','충북']\n"
   ]
  },
  {
   "cell_type": "code",
   "execution_count": 365,
   "id": "d3bb6051",
   "metadata": {},
   "outputs": [
    {
     "name": "stdout",
     "output_type": "stream",
     "text": [
      "(106866, 4)\n",
      "(615711, 4)\n",
      "(777737, 4)\n",
      "(918014, 4)\n",
      "(987010, 4)\n",
      "(1088215, 4)\n",
      "(1155848, 4)\n",
      "(1292505, 4)\n",
      "(1608060, 4)\n",
      "(1619221, 4)\n",
      "(1664693, 4)\n",
      "(1771400, 4)\n",
      "(1881647, 4)\n",
      "(1988253, 4)\n",
      "(2033281, 4)\n",
      "(2148332, 4)\n",
      "(2233997, 4)\n"
     ]
    }
   ],
   "source": [
    "# 반복문으로 concat할 빈 데이터프레임\n",
    "df = pd.DataFrame(index=range(0,0), columns=columns)\n",
    "\n",
    "#데이터가 시도명별로 csv파일이 나뉘여저 있어 반복문으로 cotcat하여 가져오려고 합니다.\n",
    "for i in citys:\n",
    "    globals()['df_{}'.format(i)] = pd.read_csv(\"data/소상공인시장진흥공단_상가(상권)정보_{}_202103.csv\".format(i))[columns]\n",
    "    df = pd.concat([df, globals()['df_{}'.format(i)]], axis = 0)\n",
    "    print(df.shape)"
   ]
  },
  {
   "cell_type": "code",
   "execution_count": 404,
   "id": "20efd9fb",
   "metadata": {},
   "outputs": [
    {
     "name": "stdout",
     "output_type": "stream",
     "text": [
      "(2233997, 4)\n"
     ]
    },
    {
     "data": {
      "text/html": [
       "<div>\n",
       "<style scoped>\n",
       "    .dataframe tbody tr th:only-of-type {\n",
       "        vertical-align: middle;\n",
       "    }\n",
       "\n",
       "    .dataframe tbody tr th {\n",
       "        vertical-align: top;\n",
       "    }\n",
       "\n",
       "    .dataframe thead th {\n",
       "        text-align: right;\n",
       "    }\n",
       "</style>\n",
       "<table border=\"1\" class=\"dataframe\">\n",
       "  <thead>\n",
       "    <tr style=\"text-align: right;\">\n",
       "      <th></th>\n",
       "      <th>시도명</th>\n",
       "      <th>상권업종소분류명</th>\n",
       "      <th>경도</th>\n",
       "      <th>위도</th>\n",
       "    </tr>\n",
       "  </thead>\n",
       "  <tbody>\n",
       "    <tr>\n",
       "      <th>85660</th>\n",
       "      <td>충청북도</td>\n",
       "      <td>여성미용실</td>\n",
       "      <td>127.941797</td>\n",
       "      <td>36.985736</td>\n",
       "    </tr>\n",
       "    <tr>\n",
       "      <th>85661</th>\n",
       "      <td>충청북도</td>\n",
       "      <td>한식/백반/한정식</td>\n",
       "      <td>127.693937</td>\n",
       "      <td>36.933781</td>\n",
       "    </tr>\n",
       "    <tr>\n",
       "      <th>85662</th>\n",
       "      <td>충청북도</td>\n",
       "      <td>한식/백반/한정식</td>\n",
       "      <td>127.829923</td>\n",
       "      <td>36.985799</td>\n",
       "    </tr>\n",
       "    <tr>\n",
       "      <th>85663</th>\n",
       "      <td>충청북도</td>\n",
       "      <td>닭내장/닭발요리</td>\n",
       "      <td>127.465799</td>\n",
       "      <td>36.646244</td>\n",
       "    </tr>\n",
       "    <tr>\n",
       "      <th>85664</th>\n",
       "      <td>충청북도</td>\n",
       "      <td>한식/백반/한정식</td>\n",
       "      <td>127.494822</td>\n",
       "      <td>36.628995</td>\n",
       "    </tr>\n",
       "  </tbody>\n",
       "</table>\n",
       "</div>"
      ],
      "text/plain": [
       "        시도명   상권업종소분류명          경도         위도\n",
       "85660  충청북도      여성미용실  127.941797  36.985736\n",
       "85661  충청북도  한식/백반/한정식  127.693937  36.933781\n",
       "85662  충청북도  한식/백반/한정식  127.829923  36.985799\n",
       "85663  충청북도   닭내장/닭발요리  127.465799  36.646244\n",
       "85664  충청북도  한식/백반/한정식  127.494822  36.628995"
      ]
     },
     "execution_count": 404,
     "metadata": {},
     "output_type": "execute_result"
    }
   ],
   "source": [
    "# 미리보기\n",
    "print(df.shape)\n",
    "df.tail()"
   ]
  },
  {
   "cell_type": "markdown",
   "id": "99c99f48",
   "metadata": {},
   "source": [
    "데이터는 분명 200만행이 있는데, 8만행밖에 출력이 안됨. \n",
    "구글링 해보니 램의 한계라고 한다!\n",
    "\n",
    "https://stackoverflow.com/questions/15455722/is-there-a-max-size-max-no-of-columns-max-rows"
   ]
  },
  {
   "cell_type": "code",
   "execution_count": 370,
   "id": "bd3b6cf8",
   "metadata": {},
   "outputs": [
    {
     "name": "stdout",
     "output_type": "stream",
     "text": [
      "(2233997, 4)\n",
      "(50810, 4)\n"
     ]
    },
    {
     "data": {
      "text/html": [
       "<div>\n",
       "<style scoped>\n",
       "    .dataframe tbody tr th:only-of-type {\n",
       "        vertical-align: middle;\n",
       "    }\n",
       "\n",
       "    .dataframe tbody tr th {\n",
       "        vertical-align: top;\n",
       "    }\n",
       "\n",
       "    .dataframe thead th {\n",
       "        text-align: right;\n",
       "    }\n",
       "</style>\n",
       "<table border=\"1\" class=\"dataframe\">\n",
       "  <thead>\n",
       "    <tr style=\"text-align: right;\">\n",
       "      <th></th>\n",
       "      <th>시도명</th>\n",
       "      <th>상권업종소분류명</th>\n",
       "      <th>경도</th>\n",
       "      <th>위도</th>\n",
       "    </tr>\n",
       "  </thead>\n",
       "  <tbody>\n",
       "    <tr>\n",
       "      <th>85</th>\n",
       "      <td>강원도</td>\n",
       "      <td>편의점</td>\n",
       "      <td>127.957414</td>\n",
       "      <td>37.321760</td>\n",
       "    </tr>\n",
       "    <tr>\n",
       "      <th>125</th>\n",
       "      <td>강원도</td>\n",
       "      <td>편의점</td>\n",
       "      <td>127.768324</td>\n",
       "      <td>37.616567</td>\n",
       "    </tr>\n",
       "    <tr>\n",
       "      <th>399</th>\n",
       "      <td>강원도</td>\n",
       "      <td>편의점</td>\n",
       "      <td>127.320630</td>\n",
       "      <td>38.185206</td>\n",
       "    </tr>\n",
       "    <tr>\n",
       "      <th>403</th>\n",
       "      <td>강원도</td>\n",
       "      <td>편의점</td>\n",
       "      <td>127.916141</td>\n",
       "      <td>37.310465</td>\n",
       "    </tr>\n",
       "    <tr>\n",
       "      <th>483</th>\n",
       "      <td>강원도</td>\n",
       "      <td>편의점</td>\n",
       "      <td>127.946466</td>\n",
       "      <td>37.342598</td>\n",
       "    </tr>\n",
       "  </tbody>\n",
       "</table>\n",
       "</div>"
      ],
      "text/plain": [
       "     시도명 상권업종소분류명          경도         위도\n",
       "85   강원도      편의점  127.957414  37.321760\n",
       "125  강원도      편의점  127.768324  37.616567\n",
       "399  강원도      편의점  127.320630  38.185206\n",
       "403  강원도      편의점  127.916141  37.310465\n",
       "483  강원도      편의점  127.946466  37.342598"
      ]
     },
     "execution_count": 370,
     "metadata": {},
     "output_type": "execute_result"
    }
   ],
   "source": [
    "# 상권업종소분류명에서 편의점만 분류합니다.\n",
    "df_store = df[df[\"상권업종소분류명\"] == '편의점'].copy()\n",
    "print(df.shape)\n",
    "print(df_store.shape)\n",
    "df_store.head()"
   ]
  },
  {
   "cell_type": "code",
   "execution_count": 371,
   "id": "74c5eee3",
   "metadata": {},
   "outputs": [
    {
     "data": {
      "text/plain": [
       "시도명         0\n",
       "상권업종소분류명    0\n",
       "경도          0\n",
       "위도          0\n",
       "dtype: int64"
      ]
     },
     "execution_count": 371,
     "metadata": {},
     "output_type": "execute_result"
    }
   ],
   "source": [
    "# 결측치가 있는지 확인합니다.\n",
    "df_store.isna().sum()"
   ]
  },
  {
   "cell_type": "code",
   "execution_count": 378,
   "id": "4efc9a0f",
   "metadata": {
    "scrolled": false
   },
   "outputs": [
    {
     "data": {
      "text/plain": [
       "<AxesSubplot:>"
      ]
     },
     "execution_count": 378,
     "metadata": {},
     "output_type": "execute_result"
    },
    {
     "data": {
      "image/png": "[encoded data removed]",
      "text/plain": [
       "<Figure size 720x288 with 1 Axes>"
      ]
     },
     "metadata": {
      "image/png": {
       "height": 308,
       "width": 613
      },
      "needs_background": "light"
     },
     "output_type": "display_data"
    }
   ],
   "source": [
    "# barplot으로 시도별 편의점 카운트를 확인해줍니다.\n",
    "df_store[\"시도명\"].value_counts().plot.bar(figsize=(10, 4))"
   ]
  },
  {
   "cell_type": "markdown",
   "id": "136a5118",
   "metadata": {},
   "source": [
    "## Pydeck으로 시각화"
   ]
  },
  {
   "cell_type": "code",
   "execution_count": null,
   "id": "a04aefe4",
   "metadata": {},
   "outputs": [],
   "source": [
    "import pydeck as pdk"
   ]
  },
  {
   "cell_type": "code",
   "execution_count": 380,
   "id": "69c50293",
   "metadata": {},
   "outputs": [
    {
     "data": {
      "text/plain": [
       "(127.47211464346249, 36.63998065698956)"
      ]
     },
     "execution_count": 380,
     "metadata": {},
     "output_type": "execute_result"
    }
   ],
   "source": [
    "# 데이터의 평균으로 지도의 위치를 지정\n",
    "long = df_store[\"경도\"].mean()\n",
    "lat = df_store[\"위도\"].mean()\n",
    "long,lat"
   ]
  },
  {
   "cell_type": "code",
   "execution_count": 405,
   "id": "e21bce95",
   "metadata": {},
   "outputs": [
    {
     "data": {
      "application/vnd.jupyter.widget-view+json": {
       "model_id": "52510a3af11548d3b6459ab436b98838",
       "version_major": 2,
       "version_minor": 0
      },
      "text/plain": [
       "DeckGLWidget(carto_key=None, custom_libraries=[], google_maps_key=None, json_input='{\"initialViewState\": {\"bea…"
      ]
     },
     "metadata": {},
     "output_type": "display_data"
    }
   ],
   "source": [
    "# 레이어\n",
    "layer = pdk.Layer(\n",
    "    'HexagonLayer',\n",
    "    df_store,\n",
    "    get_position='[경도, 위도]',\n",
    "    auto_highlight=True,\n",
    "    elevation_scale=40,\n",
    "    pickable=True,\n",
    "    elevation_range=[0, 3000],\n",
    "    extruded=True,\n",
    "    coverage= 0.8)\n",
    "\n",
    "# 지도\n",
    "view_state = pdk.ViewState(\n",
    "    longitude= long + 0.3,\n",
    "    latitude= lat - 1,\n",
    "    zoom=5.9,\n",
    "    min_zoom=0,\n",
    "    max_zoom=15,\n",
    "    pitch=40,\n",
    "    bearing=0)\n",
    "\n",
    "# Render\n",
    "r = pdk.Deck(layers=[layer], initial_view_state=view_state)\n",
    "r.show() "
   ]
  }
 ],
 "metadata": {
  "kernelspec": {
   "display_name": "Python 3",
   "language": "python",
   "name": "python3"
  },
  "language_info": {
   "codemirror_mode": {
    "name": "ipython",
    "version": 3
   },
   "file_extension": ".py",
   "mimetype": "text/x-python",
   "name": "python",
   "nbconvert_exporter": "python",
   "pygments_lexer": "ipython3",
   "version": "3.8.8"
  }
 },
 "nbformat": 4,
 "nbformat_minor": 5
}
